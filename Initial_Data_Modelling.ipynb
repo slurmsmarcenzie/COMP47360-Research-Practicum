{
 "cells": [
  {
   "cell_type": "markdown",
   "id": "adb945b6",
   "metadata": {},
   "source": [
    "# Initial Data Modelling\n",
    "---\n",
    "This notebook will be used for the initial data modelling. We will import and used the cleaned 2022 Taxi Data in order to create an initial model."
   ]
  },
  {
   "cell_type": "code",
   "execution_count": 1,
   "id": "75620b4a",
   "metadata": {},
   "outputs": [],
   "source": [
    "import pandas as pd\n",
    "import numpy as np\n",
    "import matplotlib.pyplot as plt\n",
    "import seaborn as sns\n",
    "import pickle\n",
    "\n",
    "from sklearn.model_selection import train_test_split\n",
    "from sklearn.model_selection import cross_val_score\n",
    "from sklearn.model_selection import RandomizedSearchCV\n",
    "from sklearn import preprocessing\n",
    "from sklearn.linear_model import LinearRegression\n",
    "from sklearn.tree import DecisionTreeClassifier\n",
    "from sklearn.ensemble import RandomForestRegressor\n",
    "\n",
    "from sklearn import metrics\n",
    "from sklearn.metrics import mean_absolute_error, mean_squared_error, r2_score\n",
    "\n",
    "import xgboost as xgb\n",
    "\n",
    "from tabulate import tabulate"
   ]
  },
  {
   "cell_type": "code",
   "execution_count": 2,
   "id": "a6a7f878",
   "metadata": {},
   "outputs": [],
   "source": [
    "df = pd.read_csv(\"2022_taxi_data_cleaned.csv\")"
   ]
  },
  {
   "cell_type": "code",
   "execution_count": 3,
   "id": "e8295540",
   "metadata": {},
   "outputs": [
    {
     "data": {
      "text/plain": [
       "(31323476, 21)"
      ]
     },
     "execution_count": 3,
     "metadata": {},
     "output_type": "execute_result"
    }
   ],
   "source": [
    "df.shape"
   ]
  },
  {
   "cell_type": "code",
   "execution_count": 4,
   "id": "d7a1a32b",
   "metadata": {},
   "outputs": [
    {
     "data": {
      "text/html": [
       "<div>\n",
       "<style scoped>\n",
       "    .dataframe tbody tr th:only-of-type {\n",
       "        vertical-align: middle;\n",
       "    }\n",
       "\n",
       "    .dataframe tbody tr th {\n",
       "        vertical-align: top;\n",
       "    }\n",
       "\n",
       "    .dataframe thead th {\n",
       "        text-align: right;\n",
       "    }\n",
       "</style>\n",
       "<table border=\"1\" class=\"dataframe\">\n",
       "  <thead>\n",
       "    <tr style=\"text-align: right;\">\n",
       "      <th></th>\n",
       "      <th>VendorID</th>\n",
       "      <th>passenger_count</th>\n",
       "      <th>trip_distance</th>\n",
       "      <th>RatecodeID</th>\n",
       "      <th>store_and_fwd_flag</th>\n",
       "      <th>PULocationID</th>\n",
       "      <th>DOLocationID</th>\n",
       "      <th>payment_type</th>\n",
       "      <th>fare_amount</th>\n",
       "      <th>extra</th>\n",
       "      <th>...</th>\n",
       "      <th>tip_amount</th>\n",
       "      <th>tolls_amount</th>\n",
       "      <th>improvement_surcharge</th>\n",
       "      <th>total_amount</th>\n",
       "      <th>congestion_surcharge</th>\n",
       "      <th>airport_fee</th>\n",
       "      <th>date</th>\n",
       "      <th>month</th>\n",
       "      <th>time</th>\n",
       "      <th>day_of_the_week</th>\n",
       "    </tr>\n",
       "  </thead>\n",
       "  <tbody>\n",
       "    <tr>\n",
       "      <th>0</th>\n",
       "      <td>1</td>\n",
       "      <td>2.0</td>\n",
       "      <td>3.80</td>\n",
       "      <td>1.0</td>\n",
       "      <td>N</td>\n",
       "      <td>142</td>\n",
       "      <td>236</td>\n",
       "      <td>1</td>\n",
       "      <td>14.5</td>\n",
       "      <td>3.0</td>\n",
       "      <td>...</td>\n",
       "      <td>3.65</td>\n",
       "      <td>0.0</td>\n",
       "      <td>0.3</td>\n",
       "      <td>21.95</td>\n",
       "      <td>2.5</td>\n",
       "      <td>0.0</td>\n",
       "      <td>2022-01-01</td>\n",
       "      <td>1</td>\n",
       "      <td>0</td>\n",
       "      <td>Saturday</td>\n",
       "    </tr>\n",
       "    <tr>\n",
       "      <th>1</th>\n",
       "      <td>1</td>\n",
       "      <td>1.0</td>\n",
       "      <td>2.10</td>\n",
       "      <td>1.0</td>\n",
       "      <td>N</td>\n",
       "      <td>236</td>\n",
       "      <td>42</td>\n",
       "      <td>1</td>\n",
       "      <td>8.0</td>\n",
       "      <td>0.5</td>\n",
       "      <td>...</td>\n",
       "      <td>4.00</td>\n",
       "      <td>0.0</td>\n",
       "      <td>0.3</td>\n",
       "      <td>13.30</td>\n",
       "      <td>0.0</td>\n",
       "      <td>0.0</td>\n",
       "      <td>2022-01-01</td>\n",
       "      <td>1</td>\n",
       "      <td>0</td>\n",
       "      <td>Saturday</td>\n",
       "    </tr>\n",
       "    <tr>\n",
       "      <th>2</th>\n",
       "      <td>2</td>\n",
       "      <td>1.0</td>\n",
       "      <td>0.97</td>\n",
       "      <td>1.0</td>\n",
       "      <td>N</td>\n",
       "      <td>166</td>\n",
       "      <td>166</td>\n",
       "      <td>1</td>\n",
       "      <td>7.5</td>\n",
       "      <td>0.5</td>\n",
       "      <td>...</td>\n",
       "      <td>1.76</td>\n",
       "      <td>0.0</td>\n",
       "      <td>0.3</td>\n",
       "      <td>10.56</td>\n",
       "      <td>0.0</td>\n",
       "      <td>0.0</td>\n",
       "      <td>2022-01-01</td>\n",
       "      <td>1</td>\n",
       "      <td>0</td>\n",
       "      <td>Saturday</td>\n",
       "    </tr>\n",
       "    <tr>\n",
       "      <th>3</th>\n",
       "      <td>2</td>\n",
       "      <td>1.0</td>\n",
       "      <td>1.09</td>\n",
       "      <td>1.0</td>\n",
       "      <td>N</td>\n",
       "      <td>114</td>\n",
       "      <td>68</td>\n",
       "      <td>2</td>\n",
       "      <td>8.0</td>\n",
       "      <td>0.5</td>\n",
       "      <td>...</td>\n",
       "      <td>0.00</td>\n",
       "      <td>0.0</td>\n",
       "      <td>0.3</td>\n",
       "      <td>11.80</td>\n",
       "      <td>2.5</td>\n",
       "      <td>0.0</td>\n",
       "      <td>2022-01-01</td>\n",
       "      <td>1</td>\n",
       "      <td>0</td>\n",
       "      <td>Saturday</td>\n",
       "    </tr>\n",
       "    <tr>\n",
       "      <th>4</th>\n",
       "      <td>2</td>\n",
       "      <td>1.0</td>\n",
       "      <td>4.30</td>\n",
       "      <td>1.0</td>\n",
       "      <td>N</td>\n",
       "      <td>68</td>\n",
       "      <td>163</td>\n",
       "      <td>1</td>\n",
       "      <td>23.5</td>\n",
       "      <td>0.5</td>\n",
       "      <td>...</td>\n",
       "      <td>3.00</td>\n",
       "      <td>0.0</td>\n",
       "      <td>0.3</td>\n",
       "      <td>30.30</td>\n",
       "      <td>2.5</td>\n",
       "      <td>0.0</td>\n",
       "      <td>2022-01-01</td>\n",
       "      <td>1</td>\n",
       "      <td>0</td>\n",
       "      <td>Saturday</td>\n",
       "    </tr>\n",
       "  </tbody>\n",
       "</table>\n",
       "<p>5 rows × 21 columns</p>\n",
       "</div>"
      ],
      "text/plain": [
       "   VendorID  passenger_count  trip_distance  RatecodeID store_and_fwd_flag  \\\n",
       "0         1              2.0           3.80         1.0                  N   \n",
       "1         1              1.0           2.10         1.0                  N   \n",
       "2         2              1.0           0.97         1.0                  N   \n",
       "3         2              1.0           1.09         1.0                  N   \n",
       "4         2              1.0           4.30         1.0                  N   \n",
       "\n",
       "   PULocationID  DOLocationID  payment_type  fare_amount  extra  ...  \\\n",
       "0           142           236             1         14.5    3.0  ...   \n",
       "1           236            42             1          8.0    0.5  ...   \n",
       "2           166           166             1          7.5    0.5  ...   \n",
       "3           114            68             2          8.0    0.5  ...   \n",
       "4            68           163             1         23.5    0.5  ...   \n",
       "\n",
       "   tip_amount  tolls_amount  improvement_surcharge  total_amount  \\\n",
       "0        3.65           0.0                    0.3         21.95   \n",
       "1        4.00           0.0                    0.3         13.30   \n",
       "2        1.76           0.0                    0.3         10.56   \n",
       "3        0.00           0.0                    0.3         11.80   \n",
       "4        3.00           0.0                    0.3         30.30   \n",
       "\n",
       "   congestion_surcharge  airport_fee        date month  time  day_of_the_week  \n",
       "0                   2.5          0.0  2022-01-01     1     0         Saturday  \n",
       "1                   0.0          0.0  2022-01-01     1     0         Saturday  \n",
       "2                   0.0          0.0  2022-01-01     1     0         Saturday  \n",
       "3                   2.5          0.0  2022-01-01     1     0         Saturday  \n",
       "4                   2.5          0.0  2022-01-01     1     0         Saturday  \n",
       "\n",
       "[5 rows x 21 columns]"
      ]
     },
     "execution_count": 4,
     "metadata": {},
     "output_type": "execute_result"
    }
   ],
   "source": [
    "df.head()"
   ]
  },
  {
   "cell_type": "markdown",
   "id": "7e9ca124",
   "metadata": {},
   "source": [
    "# Training a single-model\n",
    "---\n",
    "We are training a single-model with Drop-off zones as a feature as a starting point. Having zone as an input will allow the model to learn general patterns across all zones, while still taking into account the effect a particular zone has, as some are generally busyer than others.\n",
    "\n",
    "We will also explore the idea of dropping the zones as a feature, and training an individual model for each zone. It is hard tell which is a better approach, so we will test both and analyse the results to compared which performs better.\n",
    "\n",
    "---"
   ]
  },
  {
   "cell_type": "markdown",
   "id": "3de66d51",
   "metadata": {},
   "source": [
    "As described in the preliminary data exploration and processing, many of the continuous features appear to have little relation to the target outcome of predicting busyness for a particular zone. As such, we are dropping these columns before training our first model."
   ]
  },
  {
   "cell_type": "code",
   "execution_count": 5,
   "id": "16e481b9",
   "metadata": {},
   "outputs": [],
   "source": [
    "columns_to_drop = ['VendorID', 'passenger_count', 'trip_distance', 'RatecodeID', 'store_and_fwd_flag',\n",
    "                  'PULocationID', 'payment_type', 'fare_amount', 'extra', 'mta_tax', 'tip_amount',\n",
    "                  'tolls_amount', 'improvement_surcharge', 'total_amount', 'congestion_surcharge',\n",
    "                  'airport_fee', 'date']"
   ]
  },
  {
   "cell_type": "code",
   "execution_count": 6,
   "id": "fd981af1",
   "metadata": {},
   "outputs": [],
   "source": [
    "df = df.drop(columns=columns_to_drop)"
   ]
  },
  {
   "cell_type": "markdown",
   "id": "51d59658",
   "metadata": {},
   "source": [
    "In order to quantify busyness for a particular zone, we need some sort of measure that acts as a proxy for busyness. For the initial model, we have decided to use the number of dropoffs in a particular zone, at a given hour/day/month, for this proxy. As such, we add a new column to the data frame in order to represent this. This will be our target prediction when we perform regression analysis."
   ]
  },
  {
   "cell_type": "code",
   "execution_count": 7,
   "id": "86b503a4",
   "metadata": {},
   "outputs": [],
   "source": [
    "# Create an aggregated DataFrame\n",
    "df_agg = df.groupby(['DOLocationID', 'month', 'time', 'day_of_the_week']).size().reset_index(name='num_pickups')\n",
    "\n",
    "# Join the aggregated DataFrame back to the original DataFrame\n",
    "df = pd.merge(df, df_agg, how='left', on=['DOLocationID', 'month', 'time', 'day_of_the_week'])"
   ]
  },
  {
   "cell_type": "code",
   "execution_count": 8,
   "id": "73bb02be",
   "metadata": {},
   "outputs": [
    {
     "data": {
      "text/html": [
       "<div>\n",
       "<style scoped>\n",
       "    .dataframe tbody tr th:only-of-type {\n",
       "        vertical-align: middle;\n",
       "    }\n",
       "\n",
       "    .dataframe tbody tr th {\n",
       "        vertical-align: top;\n",
       "    }\n",
       "\n",
       "    .dataframe thead th {\n",
       "        text-align: right;\n",
       "    }\n",
       "</style>\n",
       "<table border=\"1\" class=\"dataframe\">\n",
       "  <thead>\n",
       "    <tr style=\"text-align: right;\">\n",
       "      <th></th>\n",
       "      <th>DOLocationID</th>\n",
       "      <th>month</th>\n",
       "      <th>time</th>\n",
       "      <th>day_of_the_week</th>\n",
       "      <th>num_pickups</th>\n",
       "    </tr>\n",
       "  </thead>\n",
       "  <tbody>\n",
       "    <tr>\n",
       "      <th>0</th>\n",
       "      <td>236</td>\n",
       "      <td>1</td>\n",
       "      <td>0</td>\n",
       "      <td>Saturday</td>\n",
       "      <td>358</td>\n",
       "    </tr>\n",
       "    <tr>\n",
       "      <th>1</th>\n",
       "      <td>42</td>\n",
       "      <td>1</td>\n",
       "      <td>0</td>\n",
       "      <td>Saturday</td>\n",
       "      <td>113</td>\n",
       "    </tr>\n",
       "    <tr>\n",
       "      <th>2</th>\n",
       "      <td>166</td>\n",
       "      <td>1</td>\n",
       "      <td>0</td>\n",
       "      <td>Saturday</td>\n",
       "      <td>100</td>\n",
       "    </tr>\n",
       "    <tr>\n",
       "      <th>3</th>\n",
       "      <td>68</td>\n",
       "      <td>1</td>\n",
       "      <td>0</td>\n",
       "      <td>Saturday</td>\n",
       "      <td>451</td>\n",
       "    </tr>\n",
       "    <tr>\n",
       "      <th>4</th>\n",
       "      <td>163</td>\n",
       "      <td>1</td>\n",
       "      <td>0</td>\n",
       "      <td>Saturday</td>\n",
       "      <td>192</td>\n",
       "    </tr>\n",
       "    <tr>\n",
       "      <th>...</th>\n",
       "      <td>...</td>\n",
       "      <td>...</td>\n",
       "      <td>...</td>\n",
       "      <td>...</td>\n",
       "      <td>...</td>\n",
       "    </tr>\n",
       "    <tr>\n",
       "      <th>31323471</th>\n",
       "      <td>162</td>\n",
       "      <td>12</td>\n",
       "      <td>23</td>\n",
       "      <td>Saturday</td>\n",
       "      <td>382</td>\n",
       "    </tr>\n",
       "    <tr>\n",
       "      <th>31323472</th>\n",
       "      <td>142</td>\n",
       "      <td>12</td>\n",
       "      <td>23</td>\n",
       "      <td>Saturday</td>\n",
       "      <td>500</td>\n",
       "    </tr>\n",
       "    <tr>\n",
       "      <th>31323473</th>\n",
       "      <td>141</td>\n",
       "      <td>12</td>\n",
       "      <td>23</td>\n",
       "      <td>Saturday</td>\n",
       "      <td>752</td>\n",
       "    </tr>\n",
       "    <tr>\n",
       "      <th>31323474</th>\n",
       "      <td>142</td>\n",
       "      <td>12</td>\n",
       "      <td>23</td>\n",
       "      <td>Saturday</td>\n",
       "      <td>500</td>\n",
       "    </tr>\n",
       "    <tr>\n",
       "      <th>31323475</th>\n",
       "      <td>263</td>\n",
       "      <td>12</td>\n",
       "      <td>23</td>\n",
       "      <td>Saturday</td>\n",
       "      <td>743</td>\n",
       "    </tr>\n",
       "  </tbody>\n",
       "</table>\n",
       "<p>31323476 rows × 5 columns</p>\n",
       "</div>"
      ],
      "text/plain": [
       "          DOLocationID  month  time day_of_the_week  num_pickups\n",
       "0                  236      1     0        Saturday          358\n",
       "1                   42      1     0        Saturday          113\n",
       "2                  166      1     0        Saturday          100\n",
       "3                   68      1     0        Saturday          451\n",
       "4                  163      1     0        Saturday          192\n",
       "...                ...    ...   ...             ...          ...\n",
       "31323471           162     12    23        Saturday          382\n",
       "31323472           142     12    23        Saturday          500\n",
       "31323473           141     12    23        Saturday          752\n",
       "31323474           142     12    23        Saturday          500\n",
       "31323475           263     12    23        Saturday          743\n",
       "\n",
       "[31323476 rows x 5 columns]"
      ]
     },
     "execution_count": 8,
     "metadata": {},
     "output_type": "execute_result"
    }
   ],
   "source": [
    "df"
   ]
  },
  {
   "cell_type": "markdown",
   "id": "d97f97b6",
   "metadata": {},
   "source": [
    "**Dealing with the Large Data Size**\n",
    "With over 30 million rows, coupled that we are training locally on a laptop, we need some sort of solution to deal with the extremely large dataset. To begin, we are going to use stratified random sampling in order to get a sample of 1,000 rows for each month of the year. Having a random sample of equal size from each month will hopefully be more representative of the original data compared to other techniques, such as simple random sampling. "
   ]
  },
  {
   "cell_type": "code",
   "execution_count": 9,
   "id": "83aa59af",
   "metadata": {},
   "outputs": [],
   "source": [
    "# Initialize an empty DataFrame to store the samples\n",
    "sampled_df = pd.DataFrame()\n",
    "\n",
    "# Loop over each month\n",
    "for month in df['month'].unique():\n",
    "    # Get a sample of 1000 rows for the month\n",
    "    month_df = df[df['month'] == month].sample(n=1000, random_state=1)\n",
    "    \n",
    "    # Append the month sample to the overall sample DataFrame\n",
    "    sampled_df = pd.concat([sampled_df, month_df])"
   ]
  },
  {
   "cell_type": "code",
   "execution_count": 10,
   "id": "f7858e56",
   "metadata": {},
   "outputs": [
    {
     "data": {
      "text/html": [
       "<div>\n",
       "<style scoped>\n",
       "    .dataframe tbody tr th:only-of-type {\n",
       "        vertical-align: middle;\n",
       "    }\n",
       "\n",
       "    .dataframe tbody tr th {\n",
       "        vertical-align: top;\n",
       "    }\n",
       "\n",
       "    .dataframe thead th {\n",
       "        text-align: right;\n",
       "    }\n",
       "</style>\n",
       "<table border=\"1\" class=\"dataframe\">\n",
       "  <thead>\n",
       "    <tr style=\"text-align: right;\">\n",
       "      <th></th>\n",
       "      <th>DOLocationID</th>\n",
       "      <th>month</th>\n",
       "      <th>time</th>\n",
       "      <th>day_of_the_week</th>\n",
       "      <th>num_pickups</th>\n",
       "    </tr>\n",
       "  </thead>\n",
       "  <tbody>\n",
       "    <tr>\n",
       "      <th>1023800</th>\n",
       "      <td>237</td>\n",
       "      <td>1</td>\n",
       "      <td>17</td>\n",
       "      <td>Monday</td>\n",
       "      <td>1177</td>\n",
       "    </tr>\n",
       "    <tr>\n",
       "      <th>2018926</th>\n",
       "      <td>48</td>\n",
       "      <td>1</td>\n",
       "      <td>21</td>\n",
       "      <td>Monday</td>\n",
       "      <td>403</td>\n",
       "    </tr>\n",
       "    <tr>\n",
       "      <th>163723</th>\n",
       "      <td>170</td>\n",
       "      <td>1</td>\n",
       "      <td>11</td>\n",
       "      <td>Tuesday</td>\n",
       "      <td>586</td>\n",
       "    </tr>\n",
       "    <tr>\n",
       "      <th>263743</th>\n",
       "      <td>232</td>\n",
       "      <td>1</td>\n",
       "      <td>22</td>\n",
       "      <td>Wednesday</td>\n",
       "      <td>88</td>\n",
       "    </tr>\n",
       "    <tr>\n",
       "      <th>1533312</th>\n",
       "      <td>164</td>\n",
       "      <td>1</td>\n",
       "      <td>17</td>\n",
       "      <td>Monday</td>\n",
       "      <td>444</td>\n",
       "    </tr>\n",
       "    <tr>\n",
       "      <th>...</th>\n",
       "      <td>...</td>\n",
       "      <td>...</td>\n",
       "      <td>...</td>\n",
       "      <td>...</td>\n",
       "      <td>...</td>\n",
       "    </tr>\n",
       "    <tr>\n",
       "      <th>30903021</th>\n",
       "      <td>68</td>\n",
       "      <td>12</td>\n",
       "      <td>10</td>\n",
       "      <td>Sunday</td>\n",
       "      <td>441</td>\n",
       "    </tr>\n",
       "    <tr>\n",
       "      <th>30336702</th>\n",
       "      <td>170</td>\n",
       "      <td>12</td>\n",
       "      <td>23</td>\n",
       "      <td>Saturday</td>\n",
       "      <td>638</td>\n",
       "    </tr>\n",
       "    <tr>\n",
       "      <th>31010885</th>\n",
       "      <td>246</td>\n",
       "      <td>12</td>\n",
       "      <td>14</td>\n",
       "      <td>Tuesday</td>\n",
       "      <td>397</td>\n",
       "    </tr>\n",
       "    <tr>\n",
       "      <th>30422979</th>\n",
       "      <td>186</td>\n",
       "      <td>12</td>\n",
       "      <td>8</td>\n",
       "      <td>Monday</td>\n",
       "      <td>299</td>\n",
       "    </tr>\n",
       "    <tr>\n",
       "      <th>31057146</th>\n",
       "      <td>170</td>\n",
       "      <td>12</td>\n",
       "      <td>9</td>\n",
       "      <td>Wednesday</td>\n",
       "      <td>687</td>\n",
       "    </tr>\n",
       "  </tbody>\n",
       "</table>\n",
       "<p>12000 rows × 5 columns</p>\n",
       "</div>"
      ],
      "text/plain": [
       "          DOLocationID  month  time day_of_the_week  num_pickups\n",
       "1023800            237      1    17          Monday         1177\n",
       "2018926             48      1    21          Monday          403\n",
       "163723             170      1    11         Tuesday          586\n",
       "263743             232      1    22       Wednesday           88\n",
       "1533312            164      1    17          Monday          444\n",
       "...                ...    ...   ...             ...          ...\n",
       "30903021            68     12    10          Sunday          441\n",
       "30336702           170     12    23        Saturday          638\n",
       "31010885           246     12    14         Tuesday          397\n",
       "30422979           186     12     8          Monday          299\n",
       "31057146           170     12     9       Wednesday          687\n",
       "\n",
       "[12000 rows x 5 columns]"
      ]
     },
     "execution_count": 10,
     "metadata": {},
     "output_type": "execute_result"
    }
   ],
   "source": [
    "sampled_df"
   ]
  },
  {
   "cell_type": "markdown",
   "id": "8ff508dc",
   "metadata": {},
   "source": [
    "We also one-hot-encode the day of the week, as it is categorical and not suitable in its original form for training models on."
   ]
  },
  {
   "cell_type": "code",
   "execution_count": 11,
   "id": "8d00a02f",
   "metadata": {},
   "outputs": [],
   "source": [
    "sampled_df = pd.get_dummies(sampled_df, columns=['day_of_the_week'])"
   ]
  },
  {
   "cell_type": "code",
   "execution_count": 12,
   "id": "7d77a5f0",
   "metadata": {},
   "outputs": [
    {
     "data": {
      "text/html": [
       "<div>\n",
       "<style scoped>\n",
       "    .dataframe tbody tr th:only-of-type {\n",
       "        vertical-align: middle;\n",
       "    }\n",
       "\n",
       "    .dataframe tbody tr th {\n",
       "        vertical-align: top;\n",
       "    }\n",
       "\n",
       "    .dataframe thead th {\n",
       "        text-align: right;\n",
       "    }\n",
       "</style>\n",
       "<table border=\"1\" class=\"dataframe\">\n",
       "  <thead>\n",
       "    <tr style=\"text-align: right;\">\n",
       "      <th></th>\n",
       "      <th>DOLocationID</th>\n",
       "      <th>month</th>\n",
       "      <th>time</th>\n",
       "      <th>num_pickups</th>\n",
       "      <th>day_of_the_week_Friday</th>\n",
       "      <th>day_of_the_week_Monday</th>\n",
       "      <th>day_of_the_week_Saturday</th>\n",
       "      <th>day_of_the_week_Sunday</th>\n",
       "      <th>day_of_the_week_Thursday</th>\n",
       "      <th>day_of_the_week_Tuesday</th>\n",
       "      <th>day_of_the_week_Wednesday</th>\n",
       "    </tr>\n",
       "  </thead>\n",
       "  <tbody>\n",
       "    <tr>\n",
       "      <th>1023800</th>\n",
       "      <td>237</td>\n",
       "      <td>1</td>\n",
       "      <td>17</td>\n",
       "      <td>1177</td>\n",
       "      <td>0</td>\n",
       "      <td>1</td>\n",
       "      <td>0</td>\n",
       "      <td>0</td>\n",
       "      <td>0</td>\n",
       "      <td>0</td>\n",
       "      <td>0</td>\n",
       "    </tr>\n",
       "    <tr>\n",
       "      <th>2018926</th>\n",
       "      <td>48</td>\n",
       "      <td>1</td>\n",
       "      <td>21</td>\n",
       "      <td>403</td>\n",
       "      <td>0</td>\n",
       "      <td>1</td>\n",
       "      <td>0</td>\n",
       "      <td>0</td>\n",
       "      <td>0</td>\n",
       "      <td>0</td>\n",
       "      <td>0</td>\n",
       "    </tr>\n",
       "    <tr>\n",
       "      <th>163723</th>\n",
       "      <td>170</td>\n",
       "      <td>1</td>\n",
       "      <td>11</td>\n",
       "      <td>586</td>\n",
       "      <td>0</td>\n",
       "      <td>0</td>\n",
       "      <td>0</td>\n",
       "      <td>0</td>\n",
       "      <td>0</td>\n",
       "      <td>1</td>\n",
       "      <td>0</td>\n",
       "    </tr>\n",
       "    <tr>\n",
       "      <th>263743</th>\n",
       "      <td>232</td>\n",
       "      <td>1</td>\n",
       "      <td>22</td>\n",
       "      <td>88</td>\n",
       "      <td>0</td>\n",
       "      <td>0</td>\n",
       "      <td>0</td>\n",
       "      <td>0</td>\n",
       "      <td>0</td>\n",
       "      <td>0</td>\n",
       "      <td>1</td>\n",
       "    </tr>\n",
       "    <tr>\n",
       "      <th>1533312</th>\n",
       "      <td>164</td>\n",
       "      <td>1</td>\n",
       "      <td>17</td>\n",
       "      <td>444</td>\n",
       "      <td>0</td>\n",
       "      <td>1</td>\n",
       "      <td>0</td>\n",
       "      <td>0</td>\n",
       "      <td>0</td>\n",
       "      <td>0</td>\n",
       "      <td>0</td>\n",
       "    </tr>\n",
       "    <tr>\n",
       "      <th>...</th>\n",
       "      <td>...</td>\n",
       "      <td>...</td>\n",
       "      <td>...</td>\n",
       "      <td>...</td>\n",
       "      <td>...</td>\n",
       "      <td>...</td>\n",
       "      <td>...</td>\n",
       "      <td>...</td>\n",
       "      <td>...</td>\n",
       "      <td>...</td>\n",
       "      <td>...</td>\n",
       "    </tr>\n",
       "    <tr>\n",
       "      <th>30903021</th>\n",
       "      <td>68</td>\n",
       "      <td>12</td>\n",
       "      <td>10</td>\n",
       "      <td>441</td>\n",
       "      <td>0</td>\n",
       "      <td>0</td>\n",
       "      <td>0</td>\n",
       "      <td>1</td>\n",
       "      <td>0</td>\n",
       "      <td>0</td>\n",
       "      <td>0</td>\n",
       "    </tr>\n",
       "    <tr>\n",
       "      <th>30336702</th>\n",
       "      <td>170</td>\n",
       "      <td>12</td>\n",
       "      <td>23</td>\n",
       "      <td>638</td>\n",
       "      <td>0</td>\n",
       "      <td>0</td>\n",
       "      <td>1</td>\n",
       "      <td>0</td>\n",
       "      <td>0</td>\n",
       "      <td>0</td>\n",
       "      <td>0</td>\n",
       "    </tr>\n",
       "    <tr>\n",
       "      <th>31010885</th>\n",
       "      <td>246</td>\n",
       "      <td>12</td>\n",
       "      <td>14</td>\n",
       "      <td>397</td>\n",
       "      <td>0</td>\n",
       "      <td>0</td>\n",
       "      <td>0</td>\n",
       "      <td>0</td>\n",
       "      <td>0</td>\n",
       "      <td>1</td>\n",
       "      <td>0</td>\n",
       "    </tr>\n",
       "    <tr>\n",
       "      <th>30422979</th>\n",
       "      <td>186</td>\n",
       "      <td>12</td>\n",
       "      <td>8</td>\n",
       "      <td>299</td>\n",
       "      <td>0</td>\n",
       "      <td>1</td>\n",
       "      <td>0</td>\n",
       "      <td>0</td>\n",
       "      <td>0</td>\n",
       "      <td>0</td>\n",
       "      <td>0</td>\n",
       "    </tr>\n",
       "    <tr>\n",
       "      <th>31057146</th>\n",
       "      <td>170</td>\n",
       "      <td>12</td>\n",
       "      <td>9</td>\n",
       "      <td>687</td>\n",
       "      <td>0</td>\n",
       "      <td>0</td>\n",
       "      <td>0</td>\n",
       "      <td>0</td>\n",
       "      <td>0</td>\n",
       "      <td>0</td>\n",
       "      <td>1</td>\n",
       "    </tr>\n",
       "  </tbody>\n",
       "</table>\n",
       "<p>12000 rows × 11 columns</p>\n",
       "</div>"
      ],
      "text/plain": [
       "          DOLocationID  month  time  num_pickups  day_of_the_week_Friday  \\\n",
       "1023800            237      1    17         1177                       0   \n",
       "2018926             48      1    21          403                       0   \n",
       "163723             170      1    11          586                       0   \n",
       "263743             232      1    22           88                       0   \n",
       "1533312            164      1    17          444                       0   \n",
       "...                ...    ...   ...          ...                     ...   \n",
       "30903021            68     12    10          441                       0   \n",
       "30336702           170     12    23          638                       0   \n",
       "31010885           246     12    14          397                       0   \n",
       "30422979           186     12     8          299                       0   \n",
       "31057146           170     12     9          687                       0   \n",
       "\n",
       "          day_of_the_week_Monday  day_of_the_week_Saturday  \\\n",
       "1023800                        1                         0   \n",
       "2018926                        1                         0   \n",
       "163723                         0                         0   \n",
       "263743                         0                         0   \n",
       "1533312                        1                         0   \n",
       "...                          ...                       ...   \n",
       "30903021                       0                         0   \n",
       "30336702                       0                         1   \n",
       "31010885                       0                         0   \n",
       "30422979                       1                         0   \n",
       "31057146                       0                         0   \n",
       "\n",
       "          day_of_the_week_Sunday  day_of_the_week_Thursday  \\\n",
       "1023800                        0                         0   \n",
       "2018926                        0                         0   \n",
       "163723                         0                         0   \n",
       "263743                         0                         0   \n",
       "1533312                        0                         0   \n",
       "...                          ...                       ...   \n",
       "30903021                       1                         0   \n",
       "30336702                       0                         0   \n",
       "31010885                       0                         0   \n",
       "30422979                       0                         0   \n",
       "31057146                       0                         0   \n",
       "\n",
       "          day_of_the_week_Tuesday  day_of_the_week_Wednesday  \n",
       "1023800                         0                          0  \n",
       "2018926                         0                          0  \n",
       "163723                          1                          0  \n",
       "263743                          0                          1  \n",
       "1533312                         0                          0  \n",
       "...                           ...                        ...  \n",
       "30903021                        0                          0  \n",
       "30336702                        0                          0  \n",
       "31010885                        1                          0  \n",
       "30422979                        0                          0  \n",
       "31057146                        0                          1  \n",
       "\n",
       "[12000 rows x 11 columns]"
      ]
     },
     "execution_count": 12,
     "metadata": {},
     "output_type": "execute_result"
    }
   ],
   "source": [
    "sampled_df"
   ]
  },
  {
   "cell_type": "markdown",
   "id": "4003e4ea",
   "metadata": {},
   "source": [
    "Our sample is now ready, and we can split the dataset into a 70/30 training/test split."
   ]
  },
  {
   "cell_type": "code",
   "execution_count": 13,
   "id": "6e459ed7",
   "metadata": {},
   "outputs": [],
   "source": [
    "X = sampled_df.drop('num_pickups', axis=1)\n",
    "y = sampled_df['num_pickups']"
   ]
  },
  {
   "cell_type": "code",
   "execution_count": 14,
   "id": "23e56a1f",
   "metadata": {},
   "outputs": [],
   "source": [
    "X_train, X_test, y_train, y_test = train_test_split(X, y, test_size=0.3, random_state=0)"
   ]
  },
  {
   "cell_type": "markdown",
   "id": "3a28d5ab",
   "metadata": {},
   "source": [
    "## Linear Regression:\n",
    "---\n",
    "While we don't believe linear regression is particularly well suited for this analysis, we will still run it as a baseline to benchmark the performance against other models. Typically, linear regression isn't always suited to temporal analysis as it may not be able to capture time-related trends across a long period. Still, given we are only looking at one year currently, it is no harm to test it for a starting point."
   ]
  },
  {
   "cell_type": "code",
   "execution_count": 15,
   "id": "4105a9ef",
   "metadata": {},
   "outputs": [],
   "source": [
    "linear_reg = LinearRegression().fit(X_train, y_train)"
   ]
  },
  {
   "cell_type": "code",
   "execution_count": 16,
   "id": "bef002a7",
   "metadata": {},
   "outputs": [
    {
     "name": "stdout",
     "output_type": "stream",
     "text": [
      "Feature                      Coefficient\n",
      "-------------------------  -------------\n",
      "day_of_the_week_Sunday       -146.474892\n",
      "day_of_the_week_Monday        -40.630231\n",
      "day_of_the_week_Saturday      -37.537829\n",
      "month                          -0.540827\n",
      "DOLocationID                    1.601206\n",
      "time                            7.921883\n",
      "day_of_the_week_Friday         13.684354\n",
      "day_of_the_week_Wednesday      48.651843\n",
      "day_of_the_week_Thursday       76.330572\n",
      "day_of_the_week_Tuesday        85.976184 \n",
      "\n",
      "Model Intercept: 174.5697028546204\n",
      "\n"
     ]
    }
   ],
   "source": [
    "linreg_coefficients = list(zip(X_train.columns, linear_reg.coef_))\n",
    "\n",
    "# Sorting the coefficients in ascending order\n",
    "sorted_linreg_coef_data = sorted(linreg_coefficients, key=lambda x: x[1])\n",
    "\n",
    "headers = [\"Feature\", \"Coefficient\"]\n",
    "print(tabulate(sorted_linreg_coef_data, headers=headers, floatfmt=\".6f\"), \"\\n\")\n",
    "\n",
    "print(f\"Model Intercept: {linear_reg.intercept_}\\n\")"
   ]
  },
  {
   "cell_type": "code",
   "execution_count": 17,
   "id": "80987e38",
   "metadata": {},
   "outputs": [
    {
     "name": "stdout",
     "output_type": "stream",
     "text": [
      "Predicted values: [645.0026764  710.93090198 569.56962982 558.39385108 419.26069036\n",
      " 796.80437337 592.98247558 640.99912722 494.15603825 748.0231251 ]\n"
     ]
    }
   ],
   "source": [
    "y_train_pred = linear_reg.predict(X_train)\n",
    "print('Predicted values:', y_train_pred[:10])"
   ]
  },
  {
   "cell_type": "code",
   "execution_count": 18,
   "id": "b37f0864",
   "metadata": {
    "scrolled": true
   },
   "outputs": [
    {
     "name": "stdout",
     "output_type": "stream",
     "text": [
      "==================== Train Data =======================\n",
      "Mean Absolute Error: 270.56617488053195\n",
      "Mean Squared Error: 125950.23311996537\n",
      "Root Mean Squared Error: 354.89467891187854\n",
      "R2 Score: 0.1374287533273585\n",
      "=======================================================\n"
     ]
    }
   ],
   "source": [
    "print(\"==================== Train Data =======================\")\n",
    "print('Mean Absolute Error:', mean_absolute_error(y_train, y_train_pred))\n",
    "print('Mean Squared Error:', mean_squared_error(y_train, y_train_pred))\n",
    "print('Root Mean Squared Error:', np.sqrt(mean_squared_error(y_train, y_train_pred)))\n",
    "print('R2 Score:', r2_score(y_train, y_train_pred))\n",
    "print(\"=======================================================\")"
   ]
  },
  {
   "cell_type": "markdown",
   "id": "5cad0e6c",
   "metadata": {},
   "source": [
    "**Training Data Evaluation:**\n",
    "- As expected, linear regression does not seem to perform well on our training data.\n",
    "- All performance metrics are quite poor across the board."
   ]
  },
  {
   "cell_type": "code",
   "execution_count": 19,
   "id": "0bda90ac",
   "metadata": {},
   "outputs": [
    {
     "name": "stdout",
     "output_type": "stream",
     "text": [
      "Predicted values: [605.97906562 560.23361399 478.87342264 626.06191875 627.25484483\n",
      " 623.77132082 429.80647258 661.84659741 419.53325972 545.98539743]\n",
      "\n"
     ]
    }
   ],
   "source": [
    "y_test_pred = linear_reg.predict(X_test)\n",
    "print('Predicted values:', y_test_pred[:10])\n",
    "print(\"\")"
   ]
  },
  {
   "cell_type": "code",
   "execution_count": 20,
   "id": "8f27e51e",
   "metadata": {},
   "outputs": [
    {
     "name": "stdout",
     "output_type": "stream",
     "text": [
      "==================== Train Data =======================\n",
      "Mean Absolute Error: 275.441533645591\n",
      "Mean Squared Error: 131725.6493284557\n",
      "Root Mean Squared Error: 362.94028341926406\n",
      "\n",
      "================== Regression Report ==================\n",
      "R2 Score: 0.14253653989060522\n",
      "\n",
      "=======================================================\n"
     ]
    }
   ],
   "source": [
    "print(\"==================== Train Data =======================\")\n",
    "print('Mean Absolute Error:', mean_absolute_error(y_test, y_test_pred))\n",
    "print('Mean Squared Error:', mean_squared_error(y_test, y_test_pred))\n",
    "print('Root Mean Squared Error:', np.sqrt(mean_squared_error(y_test, y_test_pred)))\n",
    "print(\"\\n================== Regression Report ==================\")\n",
    "print('R2 Score:', r2_score(y_test, y_test_pred))\n",
    "print(\"\\n=======================================================\")"
   ]
  },
  {
   "cell_type": "markdown",
   "id": "38989b37",
   "metadata": {},
   "source": [
    "**Test Data Evaluation:**\n",
    "- We see similar findings when testing on the test split.\n",
    "- Overall, linear regressions does seem suited to our particular problem."
   ]
  },
  {
   "cell_type": "markdown",
   "id": "235b1566",
   "metadata": {},
   "source": [
    "## Random Forest\n",
    "---"
   ]
  },
  {
   "cell_type": "markdown",
   "id": "7eb89dc3",
   "metadata": {},
   "source": [
    "We will now test random forest for our regression analysis."
   ]
  },
  {
   "cell_type": "code",
   "execution_count": 21,
   "id": "6248af75",
   "metadata": {},
   "outputs": [
    {
     "data": {
      "text/html": [
       "<style>#sk-container-id-1 {color: black;background-color: white;}#sk-container-id-1 pre{padding: 0;}#sk-container-id-1 div.sk-toggleable {background-color: white;}#sk-container-id-1 label.sk-toggleable__label {cursor: pointer;display: block;width: 100%;margin-bottom: 0;padding: 0.3em;box-sizing: border-box;text-align: center;}#sk-container-id-1 label.sk-toggleable__label-arrow:before {content: \"▸\";float: left;margin-right: 0.25em;color: #696969;}#sk-container-id-1 label.sk-toggleable__label-arrow:hover:before {color: black;}#sk-container-id-1 div.sk-estimator:hover label.sk-toggleable__label-arrow:before {color: black;}#sk-container-id-1 div.sk-toggleable__content {max-height: 0;max-width: 0;overflow: hidden;text-align: left;background-color: #f0f8ff;}#sk-container-id-1 div.sk-toggleable__content pre {margin: 0.2em;color: black;border-radius: 0.25em;background-color: #f0f8ff;}#sk-container-id-1 input.sk-toggleable__control:checked~div.sk-toggleable__content {max-height: 200px;max-width: 100%;overflow: auto;}#sk-container-id-1 input.sk-toggleable__control:checked~label.sk-toggleable__label-arrow:before {content: \"▾\";}#sk-container-id-1 div.sk-estimator input.sk-toggleable__control:checked~label.sk-toggleable__label {background-color: #d4ebff;}#sk-container-id-1 div.sk-label input.sk-toggleable__control:checked~label.sk-toggleable__label {background-color: #d4ebff;}#sk-container-id-1 input.sk-hidden--visually {border: 0;clip: rect(1px 1px 1px 1px);clip: rect(1px, 1px, 1px, 1px);height: 1px;margin: -1px;overflow: hidden;padding: 0;position: absolute;width: 1px;}#sk-container-id-1 div.sk-estimator {font-family: monospace;background-color: #f0f8ff;border: 1px dotted black;border-radius: 0.25em;box-sizing: border-box;margin-bottom: 0.5em;}#sk-container-id-1 div.sk-estimator:hover {background-color: #d4ebff;}#sk-container-id-1 div.sk-parallel-item::after {content: \"\";width: 100%;border-bottom: 1px solid gray;flex-grow: 1;}#sk-container-id-1 div.sk-label:hover label.sk-toggleable__label {background-color: #d4ebff;}#sk-container-id-1 div.sk-serial::before {content: \"\";position: absolute;border-left: 1px solid gray;box-sizing: border-box;top: 0;bottom: 0;left: 50%;z-index: 0;}#sk-container-id-1 div.sk-serial {display: flex;flex-direction: column;align-items: center;background-color: white;padding-right: 0.2em;padding-left: 0.2em;position: relative;}#sk-container-id-1 div.sk-item {position: relative;z-index: 1;}#sk-container-id-1 div.sk-parallel {display: flex;align-items: stretch;justify-content: center;background-color: white;position: relative;}#sk-container-id-1 div.sk-item::before, #sk-container-id-1 div.sk-parallel-item::before {content: \"\";position: absolute;border-left: 1px solid gray;box-sizing: border-box;top: 0;bottom: 0;left: 50%;z-index: -1;}#sk-container-id-1 div.sk-parallel-item {display: flex;flex-direction: column;z-index: 1;position: relative;background-color: white;}#sk-container-id-1 div.sk-parallel-item:first-child::after {align-self: flex-end;width: 50%;}#sk-container-id-1 div.sk-parallel-item:last-child::after {align-self: flex-start;width: 50%;}#sk-container-id-1 div.sk-parallel-item:only-child::after {width: 0;}#sk-container-id-1 div.sk-dashed-wrapped {border: 1px dashed gray;margin: 0 0.4em 0.5em 0.4em;box-sizing: border-box;padding-bottom: 0.4em;background-color: white;}#sk-container-id-1 div.sk-label label {font-family: monospace;font-weight: bold;display: inline-block;line-height: 1.2em;}#sk-container-id-1 div.sk-label-container {text-align: center;}#sk-container-id-1 div.sk-container {/* jupyter's `normalize.less` sets `[hidden] { display: none; }` but bootstrap.min.css set `[hidden] { display: none !important; }` so we also need the `!important` here to be able to override the default hidden behavior on the sphinx rendered scikit-learn.org. See: https://github.com/scikit-learn/scikit-learn/issues/21755 */display: inline-block !important;position: relative;}#sk-container-id-1 div.sk-text-repr-fallback {display: none;}</style><div id=\"sk-container-id-1\" class=\"sk-top-container\"><div class=\"sk-text-repr-fallback\"><pre>RandomForestRegressor(oob_score=True, random_state=1)</pre><b>In a Jupyter environment, please rerun this cell to show the HTML representation or trust the notebook. <br />On GitHub, the HTML representation is unable to render, please try loading this page with nbviewer.org.</b></div><div class=\"sk-container\" hidden><div class=\"sk-item\"><div class=\"sk-estimator sk-toggleable\"><input class=\"sk-toggleable__control sk-hidden--visually\" id=\"sk-estimator-id-1\" type=\"checkbox\" checked><label for=\"sk-estimator-id-1\" class=\"sk-toggleable__label sk-toggleable__label-arrow\">RandomForestRegressor</label><div class=\"sk-toggleable__content\"><pre>RandomForestRegressor(oob_score=True, random_state=1)</pre></div></div></div></div></div>"
      ],
      "text/plain": [
       "RandomForestRegressor(oob_score=True, random_state=1)"
      ]
     },
     "execution_count": 21,
     "metadata": {},
     "output_type": "execute_result"
    }
   ],
   "source": [
    "random_forest = RandomForestRegressor(n_estimators=100, oob_score=True, random_state=1)\n",
    "random_forest.fit(X_train, y_train)"
   ]
  },
  {
   "cell_type": "code",
   "execution_count": 22,
   "id": "77ae34fc",
   "metadata": {},
   "outputs": [
    {
     "data": {
      "text/html": [
       "<div>\n",
       "<style scoped>\n",
       "    .dataframe tbody tr th:only-of-type {\n",
       "        vertical-align: middle;\n",
       "    }\n",
       "\n",
       "    .dataframe tbody tr th {\n",
       "        vertical-align: top;\n",
       "    }\n",
       "\n",
       "    .dataframe thead th {\n",
       "        text-align: right;\n",
       "    }\n",
       "</style>\n",
       "<table border=\"1\" class=\"dataframe\">\n",
       "  <thead>\n",
       "    <tr style=\"text-align: right;\">\n",
       "      <th></th>\n",
       "      <th>feature</th>\n",
       "      <th>importance</th>\n",
       "    </tr>\n",
       "  </thead>\n",
       "  <tbody>\n",
       "    <tr>\n",
       "      <th>0</th>\n",
       "      <td>DOLocationID</td>\n",
       "      <td>0.599702</td>\n",
       "    </tr>\n",
       "    <tr>\n",
       "      <th>2</th>\n",
       "      <td>time</td>\n",
       "      <td>0.247061</td>\n",
       "    </tr>\n",
       "    <tr>\n",
       "      <th>1</th>\n",
       "      <td>month</td>\n",
       "      <td>0.064077</td>\n",
       "    </tr>\n",
       "    <tr>\n",
       "      <th>6</th>\n",
       "      <td>day_of_the_week_Sunday</td>\n",
       "      <td>0.029639</td>\n",
       "    </tr>\n",
       "    <tr>\n",
       "      <th>5</th>\n",
       "      <td>day_of_the_week_Saturday</td>\n",
       "      <td>0.021503</td>\n",
       "    </tr>\n",
       "    <tr>\n",
       "      <th>3</th>\n",
       "      <td>day_of_the_week_Friday</td>\n",
       "      <td>0.009915</td>\n",
       "    </tr>\n",
       "    <tr>\n",
       "      <th>4</th>\n",
       "      <td>day_of_the_week_Monday</td>\n",
       "      <td>0.009223</td>\n",
       "    </tr>\n",
       "    <tr>\n",
       "      <th>8</th>\n",
       "      <td>day_of_the_week_Tuesday</td>\n",
       "      <td>0.006797</td>\n",
       "    </tr>\n",
       "    <tr>\n",
       "      <th>9</th>\n",
       "      <td>day_of_the_week_Wednesday</td>\n",
       "      <td>0.006100</td>\n",
       "    </tr>\n",
       "    <tr>\n",
       "      <th>7</th>\n",
       "      <td>day_of_the_week_Thursday</td>\n",
       "      <td>0.005984</td>\n",
       "    </tr>\n",
       "  </tbody>\n",
       "</table>\n",
       "</div>"
      ],
      "text/plain": [
       "                     feature  importance\n",
       "0               DOLocationID    0.599702\n",
       "2                       time    0.247061\n",
       "1                      month    0.064077\n",
       "6     day_of_the_week_Sunday    0.029639\n",
       "5   day_of_the_week_Saturday    0.021503\n",
       "3     day_of_the_week_Friday    0.009915\n",
       "4     day_of_the_week_Monday    0.009223\n",
       "8    day_of_the_week_Tuesday    0.006797\n",
       "9  day_of_the_week_Wednesday    0.006100\n",
       "7   day_of_the_week_Thursday    0.005984"
      ]
     },
     "execution_count": 22,
     "metadata": {},
     "output_type": "execute_result"
    }
   ],
   "source": [
    "# Creating a dataframe to store & display feature importance\n",
    "feature_importance = pd.DataFrame({'feature': X_train.columns, 'importance':random_forest.feature_importances_})\n",
    "feature_importance.sort_values('importance', ascending=False)"
   ]
  },
  {
   "cell_type": "markdown",
   "id": "f9d90268",
   "metadata": {},
   "source": [
    "**Observations:** The ranking of feature importance actually looks quite promising at first glance. Dropoff Location is the highest by far, which should mean we can see the difference in busyness per zone relatively clearly when running the model. Time and month being second and third respectively also backs up our thoughts in the initial data visualisation, where the graphs showed a clear difference in the number of taxis as the time of day changes. And lesser but still significant differences were also seen when the pickups per month were plotted. So far, this backs up our initial suspicions."
   ]
  },
  {
   "cell_type": "code",
   "execution_count": 23,
   "id": "a25ccc35",
   "metadata": {},
   "outputs": [
    {
     "data": {
      "text/html": [
       "<div>\n",
       "<style scoped>\n",
       "    .dataframe tbody tr th:only-of-type {\n",
       "        vertical-align: middle;\n",
       "    }\n",
       "\n",
       "    .dataframe tbody tr th {\n",
       "        vertical-align: top;\n",
       "    }\n",
       "\n",
       "    .dataframe thead th {\n",
       "        text-align: right;\n",
       "    }\n",
       "</style>\n",
       "<table border=\"1\" class=\"dataframe\">\n",
       "  <thead>\n",
       "    <tr style=\"text-align: right;\">\n",
       "      <th></th>\n",
       "      <th>Actual Value</th>\n",
       "      <th>Predicted Value</th>\n",
       "    </tr>\n",
       "  </thead>\n",
       "  <tbody>\n",
       "    <tr>\n",
       "      <th>27686079</th>\n",
       "      <td>728</td>\n",
       "      <td>737.86</td>\n",
       "    </tr>\n",
       "    <tr>\n",
       "      <th>3960398</th>\n",
       "      <td>1700</td>\n",
       "      <td>1670.71</td>\n",
       "    </tr>\n",
       "    <tr>\n",
       "      <th>9991269</th>\n",
       "      <td>722</td>\n",
       "      <td>736.84</td>\n",
       "    </tr>\n",
       "    <tr>\n",
       "      <th>1972780</th>\n",
       "      <td>171</td>\n",
       "      <td>185.30</td>\n",
       "    </tr>\n",
       "    <tr>\n",
       "      <th>10898020</th>\n",
       "      <td>823</td>\n",
       "      <td>869.57</td>\n",
       "    </tr>\n",
       "    <tr>\n",
       "      <th>22972743</th>\n",
       "      <td>850</td>\n",
       "      <td>851.93</td>\n",
       "    </tr>\n",
       "    <tr>\n",
       "      <th>15349398</th>\n",
       "      <td>702</td>\n",
       "      <td>634.97</td>\n",
       "    </tr>\n",
       "    <tr>\n",
       "      <th>16496062</th>\n",
       "      <td>428</td>\n",
       "      <td>430.59</td>\n",
       "    </tr>\n",
       "    <tr>\n",
       "      <th>8401815</th>\n",
       "      <td>735</td>\n",
       "      <td>718.26</td>\n",
       "    </tr>\n",
       "    <tr>\n",
       "      <th>28038907</th>\n",
       "      <td>730</td>\n",
       "      <td>702.60</td>\n",
       "    </tr>\n",
       "  </tbody>\n",
       "</table>\n",
       "</div>"
      ],
      "text/plain": [
       "          Actual Value  Predicted Value\n",
       "27686079           728           737.86\n",
       "3960398           1700          1670.71\n",
       "9991269            722           736.84\n",
       "1972780            171           185.30\n",
       "10898020           823           869.57\n",
       "22972743           850           851.93\n",
       "15349398           702           634.97\n",
       "16496062           428           430.59\n",
       "8401815            735           718.26\n",
       "28038907           730           702.60"
      ]
     },
     "execution_count": 23,
     "metadata": {},
     "output_type": "execute_result"
    }
   ],
   "source": [
    "# Testing predicted vs actual values \n",
    "rf_training_predictions = random_forest.predict(X_train)\n",
    "df_true_vs_rf_predicted = pd.DataFrame({'Actual Value': y_train, 'Predicted Value': rf_training_predictions})\n",
    "df_true_vs_rf_predicted.head(10)"
   ]
  },
  {
   "cell_type": "code",
   "execution_count": 24,
   "id": "f0cf895c",
   "metadata": {},
   "outputs": [
    {
     "name": "stdout",
     "output_type": "stream",
     "text": [
      "\n",
      "==================== Train Data =======================\n",
      "Mean Absolute Error: 26.78383333333333\n",
      "Mean Squared Error: 1469.757363857143\n",
      "Root Mean Squared Error: 38.337414673620636\n",
      "R^2: 0.9899343541473161\n",
      "\n",
      "=======================================================\n"
     ]
    }
   ],
   "source": [
    "print(\"\\n==================== Train Data =======================\")\n",
    "print('Mean Absolute Error:', metrics.mean_absolute_error(y_train, rf_training_predictions))\n",
    "print('Mean Squared Error:', metrics.mean_squared_error(y_train, rf_training_predictions))\n",
    "print('Root Mean Squared Error:', np.sqrt(metrics.mean_squared_error(y_train, rf_training_predictions)))\n",
    "print('R^2:', metrics.r2_score(y_train, rf_training_predictions))\n",
    "print(\"\\n=======================================================\")"
   ]
  },
  {
   "cell_type": "markdown",
   "id": "a5386db9",
   "metadata": {},
   "source": [
    "**Training Data Evaluation:**\n",
    "- The model is actually quite accurate on the training set.\n",
    "- MAE of approx. 26.8 seems reasonable for a first model, given that we are prediciton the number of dropoffs gor a given hours. Being +/- 27 on average is a good starting point.\n",
    "- R-squared is extremely high, at almost 0.99. This could be a sign of overitting.\n"
   ]
  },
  {
   "cell_type": "markdown",
   "id": "4a672162",
   "metadata": {},
   "source": [
    "We will now run our model on the test set to see how it performs on unseen data."
   ]
  },
  {
   "cell_type": "code",
   "execution_count": 25,
   "id": "1d266d06",
   "metadata": {},
   "outputs": [
    {
     "data": {
      "text/html": [
       "<div>\n",
       "<style scoped>\n",
       "    .dataframe tbody tr th:only-of-type {\n",
       "        vertical-align: middle;\n",
       "    }\n",
       "\n",
       "    .dataframe tbody tr th {\n",
       "        vertical-align: top;\n",
       "    }\n",
       "\n",
       "    .dataframe thead th {\n",
       "        text-align: right;\n",
       "    }\n",
       "</style>\n",
       "<table border=\"1\" class=\"dataframe\">\n",
       "  <thead>\n",
       "    <tr style=\"text-align: right;\">\n",
       "      <th></th>\n",
       "      <th>Actual Value</th>\n",
       "      <th>Predicted Value</th>\n",
       "    </tr>\n",
       "  </thead>\n",
       "  <tbody>\n",
       "    <tr>\n",
       "      <th>10437746</th>\n",
       "      <td>957</td>\n",
       "      <td>895.17</td>\n",
       "    </tr>\n",
       "    <tr>\n",
       "      <th>31057146</th>\n",
       "      <td>687</td>\n",
       "      <td>793.08</td>\n",
       "    </tr>\n",
       "    <tr>\n",
       "      <th>30429506</th>\n",
       "      <td>543</td>\n",
       "      <td>621.56</td>\n",
       "    </tr>\n",
       "    <tr>\n",
       "      <th>18679329</th>\n",
       "      <td>431</td>\n",
       "      <td>511.22</td>\n",
       "    </tr>\n",
       "    <tr>\n",
       "      <th>29621108</th>\n",
       "      <td>1479</td>\n",
       "      <td>1306.54</td>\n",
       "    </tr>\n",
       "    <tr>\n",
       "      <th>11270405</th>\n",
       "      <td>408</td>\n",
       "      <td>516.06</td>\n",
       "    </tr>\n",
       "    <tr>\n",
       "      <th>22188841</th>\n",
       "      <td>375</td>\n",
       "      <td>312.66</td>\n",
       "    </tr>\n",
       "    <tr>\n",
       "      <th>19280168</th>\n",
       "      <td>163</td>\n",
       "      <td>225.96</td>\n",
       "    </tr>\n",
       "    <tr>\n",
       "      <th>30710829</th>\n",
       "      <td>247</td>\n",
       "      <td>230.02</td>\n",
       "    </tr>\n",
       "    <tr>\n",
       "      <th>23903410</th>\n",
       "      <td>311</td>\n",
       "      <td>260.25</td>\n",
       "    </tr>\n",
       "  </tbody>\n",
       "</table>\n",
       "</div>"
      ],
      "text/plain": [
       "          Actual Value  Predicted Value\n",
       "10437746           957           895.17\n",
       "31057146           687           793.08\n",
       "30429506           543           621.56\n",
       "18679329           431           511.22\n",
       "29621108          1479          1306.54\n",
       "11270405           408           516.06\n",
       "22188841           375           312.66\n",
       "19280168           163           225.96\n",
       "30710829           247           230.02\n",
       "23903410           311           260.25"
      ]
     },
     "execution_count": 25,
     "metadata": {},
     "output_type": "execute_result"
    }
   ],
   "source": [
    "# Predicted class labels for all examples, \n",
    "# using the trained model, on in-sample data (same sample used for training and test)\n",
    "rf_test_predictions = random_forest.predict(X_test)\n",
    "df_true_vs_rf_predicted_test = pd.DataFrame({'Actual Value': y_test, 'Predicted Value': rf_test_predictions})\n",
    "df_true_vs_rf_predicted_test.head(10)"
   ]
  },
  {
   "cell_type": "code",
   "execution_count": 26,
   "id": "4ad1ee67",
   "metadata": {},
   "outputs": [
    {
     "name": "stdout",
     "output_type": "stream",
     "text": [
      "\n",
      "==================== Test Data =======================\n",
      "Mean Absolute Error: 73.12122222222222\n",
      "Mean Squared Error: 10735.220530722221\n",
      "Root Mean Squared Error: 103.61090932291937\n",
      "R^2: 0.9301194612572542\n",
      "=======================================================\n"
     ]
    }
   ],
   "source": [
    "print(\"\\n==================== Test Data =======================\")\n",
    "print('Mean Absolute Error:', metrics.mean_absolute_error(y_test, rf_test_predictions))\n",
    "print('Mean Squared Error:', metrics.mean_squared_error(y_test, rf_test_predictions))\n",
    "print('Root Mean Squared Error:', np.sqrt(metrics.mean_squared_error(y_test, rf_test_predictions)))\n",
    "print('R^2:', metrics.r2_score(y_test, rf_test_predictions))\n",
    "print(\"=======================================================\")"
   ]
  },
  {
   "cell_type": "markdown",
   "id": "5dc5a902",
   "metadata": {},
   "source": [
    "**Test Data Evaluation:**\n",
    "- The model did not perform as well on the test data.\n",
    "- MAE is significantly higher, at approx 73. \n",
    "- R-squared is also lower at 0.93, however this isn't necesasarily a bad thing. It is still a very high score, and means most of the variance in the target variable is explained from the independent variables."
   ]
  },
  {
   "cell_type": "markdown",
   "id": "85aa9c8b",
   "metadata": {},
   "source": [
    "## XGBoost\n",
    "---"
   ]
  },
  {
   "cell_type": "markdown",
   "id": "3c2792ad",
   "metadata": {},
   "source": [
    "XGboost (Extreme Gradient Boosting) is another popular model when it comes to machine learning. We will now train a new model using XGboost and see how it performs relative to the other models. "
   ]
  },
  {
   "cell_type": "code",
   "execution_count": 27,
   "id": "9fd534ea",
   "metadata": {},
   "outputs": [],
   "source": [
    "# Instantiate an XGBoost regressor object \n",
    "xg_reg = xgb.XGBRegressor()\n",
    "\n",
    "# Fit the regressor to the training set\n",
    "xg_reg.fit(X_train,y_train)\n",
    "\n",
    "# Predict on the test set\n",
    "preds = xg_reg.predict(X_test)"
   ]
  },
  {
   "cell_type": "code",
   "execution_count": 28,
   "id": "44a0b23f",
   "metadata": {},
   "outputs": [
    {
     "name": "stdout",
     "output_type": "stream",
     "text": [
      "\n",
      "==================== Test Data =======================\n",
      "Mean Absolute Error: 63.64092616809739\n",
      "Mean Squared Error: 7501.753606437261\n",
      "Root Mean Squared Error: 86.61266423818898\n",
      "R^2: 0.951167599954474\n",
      "\n",
      "=======================================================\n"
     ]
    }
   ],
   "source": [
    "print(\"\\n==================== Test Data =======================\")\n",
    "print('Mean Absolute Error:', metrics.mean_absolute_error(y_test, preds))\n",
    "print('Mean Squared Error:', metrics.mean_squared_error(y_test, preds))\n",
    "print('Root Mean Squared Error:', np.sqrt(metrics.mean_squared_error(y_test, preds)))\n",
    "print('R^2:', metrics.r2_score(y_test, preds))\n",
    "print(\"\\n=======================================================\")"
   ]
  },
  {
   "cell_type": "markdown",
   "id": "80678fdd",
   "metadata": {},
   "source": [
    "**Testing RandomisedSearchCV to improve paramter tuning:**\n",
    "<br><br>\n",
    "Initially, we tried to run GridSearchCV in order to find the optimal parameters for XGBoost. GridSearchCV searches through all possible parameter combinations for a given list, and finds the best performing combination. However, this proved too computationally intensive and we ran out of memory.\n",
    "\n",
    "Given this, we decided to use RandomisedSearchCV instead. It is much less resource intensive as it explores a random subset of combinations rather than all possible ones. "
   ]
  },
  {
   "cell_type": "code",
   "execution_count": 29,
   "id": "df7b9c5c",
   "metadata": {},
   "outputs": [
    {
     "name": "stdout",
     "output_type": "stream",
     "text": [
      "Fitting 5 folds for each of 100 candidates, totalling 500 fits\n",
      "{'subsample': 1, 'n_estimators': 300, 'min_child_weight': 3, 'max_depth': 7, 'learning_rate': 0.2, 'colsample_bytree': 1}\n"
     ]
    }
   ],
   "source": [
    "param_dist = {\n",
    "    'n_estimators': [100, 200, 300, 400],\n",
    "    'max_depth': [2, 3, 5, 7],\n",
    "    'learning_rate': [0.01, 0.1, 0.2],\n",
    "    'min_child_weight': [1, 2, 3],\n",
    "    'subsample': [0.5, 0.7, 1],\n",
    "    'colsample_bytree': [0.5, 0.7, 1],\n",
    "}\n",
    "\n",
    "random_search = RandomizedSearchCV(estimator=xgb.XGBRegressor(), param_distributions=param_dist, n_iter=100, cv=5, n_jobs=-1, verbose=1)\n",
    "random_search.fit(X_train, y_train)\n",
    "\n",
    "# Print the best parameters found\n",
    "print(random_search.best_params_)"
   ]
  },
  {
   "cell_type": "markdown",
   "id": "a5b978f2",
   "metadata": {},
   "source": [
    "**Re-running the model while applying the optimal hyperparameters found from RandomisedSearchCV.**"
   ]
  },
  {
   "cell_type": "code",
   "execution_count": 30,
   "id": "48e41ff5",
   "metadata": {},
   "outputs": [],
   "source": [
    "# Apply the optimal hyperparameters\n",
    "xg_reg = xgb.XGBRegressor(subsample=0.7, n_estimators=400, min_child_weight=2, max_depth=7, learning_rate=0.1, colsample_bytree=1, objective ='reg:squarederror')\n",
    "\n",
    "# Fit the regressor to the training set\n",
    "xg_reg.fit(X_train, y_train)\n",
    "\n",
    "# Predict on the test set\n",
    "preds = xg_reg.predict(X_test)"
   ]
  },
  {
   "cell_type": "code",
   "execution_count": 31,
   "id": "b276a509",
   "metadata": {},
   "outputs": [
    {
     "name": "stdout",
     "output_type": "stream",
     "text": [
      "\n",
      "==================== Test Data =======================\n",
      "Mean Absolute Error: 51.79604471200042\n",
      "Mean Squared Error: 5087.275149849588\n",
      "Root Mean Squared Error: 71.32513687228078\n",
      "R^2: 0.9668845621581138\n",
      "\n",
      "=======================================================\n"
     ]
    }
   ],
   "source": [
    "print(\"\\n==================== Test Data =======================\")\n",
    "print('Mean Absolute Error:', metrics.mean_absolute_error(y_test, preds))\n",
    "print('Mean Squared Error:', metrics.mean_squared_error(y_test, preds))\n",
    "print('Root Mean Squared Error:', np.sqrt(metrics.mean_squared_error(y_test, preds)))\n",
    "print('R^2:', metrics.r2_score(y_test, preds))\n",
    "print(\"\\n=======================================================\")"
   ]
  },
  {
   "cell_type": "markdown",
   "id": "7e0fdfc6",
   "metadata": {},
   "source": [
    "**Observations:**\n",
    "- The XGBoost with optimised hyperparamters appears to be the best performing model so far.\n",
    "- It has the lowest MAE, MSE, and RMSE values across the board that we've seen so far.\n",
    "- The r-squared is also very respectable, nearing almost 0.97.\n",
    "\n",
    "For an initial start to modelling, these seem like they will be viable for the MVP. Once subway data and other proxies for busyness are implemented, these will be revisited and trained again."
   ]
  },
  {
   "cell_type": "code",
   "execution_count": 32,
   "id": "0b0aa879",
   "metadata": {},
   "outputs": [],
   "source": [
    "with open('xgb_reg_single_model.pkl', 'wb') as file:\n",
    "    pickle.dump(xg_reg, file)"
   ]
  }
 ],
 "metadata": {
  "kernelspec": {
   "display_name": "Python 3 (ipykernel)",
   "language": "python",
   "name": "python3"
  },
  "language_info": {
   "codemirror_mode": {
    "name": "ipython",
    "version": 3
   },
   "file_extension": ".py",
   "mimetype": "text/x-python",
   "name": "python",
   "nbconvert_exporter": "python",
   "pygments_lexer": "ipython3",
   "version": "3.8.16"
  }
 },
 "nbformat": 4,
 "nbformat_minor": 5
}
